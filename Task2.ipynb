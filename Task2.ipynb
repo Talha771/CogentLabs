{
 "cells": [
  {
   "cell_type": "code",
   "execution_count": 111,
   "metadata": {},
   "outputs": [
    {
     "name": "stdout",
     "output_type": "stream",
     "text": [
      "Requirement already satisfied: pandas in /home/codespace/.local/lib/python3.10/site-packages (2.2.2)\n",
      "Requirement already satisfied: numpy>=1.22.4 in /usr/local/python/3.10.13/lib/python3.10/site-packages (from pandas) (1.26.4)\n",
      "Requirement already satisfied: python-dateutil>=2.8.2 in /home/codespace/.local/lib/python3.10/site-packages (from pandas) (2.9.0.post0)\n",
      "Requirement already satisfied: pytz>=2020.1 in /home/codespace/.local/lib/python3.10/site-packages (from pandas) (2024.1)\n",
      "Requirement already satisfied: tzdata>=2022.7 in /home/codespace/.local/lib/python3.10/site-packages (from pandas) (2024.1)\n",
      "Requirement already satisfied: six>=1.5 in /home/codespace/.local/lib/python3.10/site-packages (from python-dateutil>=2.8.2->pandas) (1.16.0)\n",
      "Collecting mdextractor\n",
      "  Downloading mdextractor-0.0.2-py3-none-any.whl.metadata (2.1 kB)\n",
      "Downloading mdextractor-0.0.2-py3-none-any.whl (3.7 kB)\n",
      "Installing collected packages: mdextractor\n",
      "Successfully installed mdextractor-0.0.2\n"
     ]
    }
   ],
   "source": [
    "!pip install pandas\n",
    "!pip install mdextractor\n",
    "!pip install --upgrade langchain\n",
    "!pip install --upgrade python-dotenv\n",
    "!pip install --upgrade langchain_community\n"
   ]
  },
  {
   "cell_type": "code",
   "execution_count": 113,
   "metadata": {},
   "outputs": [],
   "source": [
    "import os\n",
    "from langchain.llms import OpenAI \n",
    "from dotenv import load_dotenv\n",
    "load_dotenv()\n",
    "import pandas as pd\n",
    "from langchain.chat_models import ChatOpenAI\n",
    "from langchain import PromptTemplate\n",
    "from mdextractor import extract_md_blocks\n",
    "\n"
   ]
  },
  {
   "cell_type": "markdown",
   "metadata": {},
   "source": [
    "## Reading the csv and generating a list of dictionaries"
   ]
  },
  {
   "cell_type": "code",
   "execution_count": 114,
   "metadata": {},
   "outputs": [],
   "source": [
    "df = pd.read_csv('data.csv')\n"
   ]
  },
  {
   "cell_type": "code",
   "execution_count": 115,
   "metadata": {},
   "outputs": [],
   "source": [
    "dataList=[]\n",
    "column_names = df.columns\n",
    "for r in df.iterrows():\n",
    "    dct={}\n",
    "    for i in range(len(column_names)):\n",
    "        dct[column_names[i]]=r[1].iloc[i]\n",
    "    dataList.append(dct)\n",
    "\n",
    "    "
   ]
  },
  {
   "cell_type": "markdown",
   "metadata": {},
   "source": [
    "## Langchain"
   ]
  },
  {
   "cell_type": "code",
   "execution_count": 116,
   "metadata": {},
   "outputs": [],
   "source": [
    "os.environ[\"OPENAI_API_KEY\"] = os.getenv(\"OPENAI_API_KEY\")\n",
    "chat = ChatOpenAI(\n",
    "        model=\"gpt-4o-mini\",\n",
    "        temperature=0.4)"
   ]
  },
  {
   "cell_type": "code",
   "execution_count": 117,
   "metadata": {},
   "outputs": [],
   "source": [
    "template = \"\"\"  \n",
    "### INFORMATION\n",
    "Name : {name}\n",
    "Field Of Study : {study_field}\n",
    "Year of Study : {year}\n",
    "List of Subjects : {subjects}\n",
    "Preferred Learning Style : {learning_style}\n",
    "Personal Objectives: {objectives}\n",
    "Challenges: {challenges}\n",
    "Extracurricular Activities : {ECA}\n",
    "\n",
    "Carefully consider the data provided and reason through the provided instructions. \n",
    "1.) Identify the students goals \n",
    "2.) Analyze the students challenges and learning styles to choose activities that suit them \n",
    "3.) Make sure to leave buffer time in between. \n",
    "4.) Try to incorporate extra-curricular into study sessions. \n",
    "5.) Create a timetable and mark it such, ensure that you give the timetable in markdown, and add a description for each entry\n",
    "6.) Your output should be descriptive and not too concise\n",
    "7.) Ensure that the activities are actionable things.\n",
    "\n",
    "\n",
    "\"\"\"\n",
    "# create a prompt template using above-defined template string \n",
    "prompt_template = PromptTemplate.from_template(\n",
    "    template=template\n",
    ")\n",
    "data=dataList[10]\n",
    "final_prompt = prompt_template.format(\n",
    "    name = {data[\"Name\"]},\n",
    "    study_field= {data[\"Field of study\"]},\n",
    "    year = {data['Year of study']},\n",
    "    subjects = {data['List of subjects']},\n",
    "    learning_style = {data['Preferred Learning Styles']},\n",
    "    objectives = {data['Personal Objectives']},\n",
    "    challenges = {data['Challenges']},\n",
    "    ECA = {data['Extracurricular activities']},\n",
    ")\n",
    "result = chat.invoke(final_prompt).content\n"
   ]
  },
  {
   "cell_type": "code",
   "execution_count": 130,
   "metadata": {},
   "outputs": [
    {
     "data": {
      "text/markdown": [
       "```markdown\n",
       "| Time          | Activity                                          | Description                                                                                      |\n",
       "|---------------|---------------------------------------------------|--------------------------------------------------------------------------------------------------|\n",
       "| 8:00 AM - 9:00 AM | **Quantum Mechanics Study Session**            | Focus on foundational concepts in quantum mechanics. Use online resources and videos for engaging content. |\n",
       "| 9:00 AM - 9:30 AM | **Buffer Time**                               | Take a break to relax, grab a snack, or do a quick meditation to recharge.                     |\n",
       "| 9:30 AM - 10:30 AM | **Electromagnetism Study Session**            | Dive into electromagnetism principles. Try to relate concepts to real-world applications, such as tech innovations. |\n",
       "| 10:30 AM - 11:00 AM | **Buffer Time**                             | Stretch, walk around, or play a quick game of chess to stimulate your mind.                     |\n",
       "| 11:00 AM - 12:00 PM | **Thermodynamics Study Session**              | Explore thermodynamics. Consider how these principles can be applied in energy-efficient startups. |\n",
       "| 12:00 PM - 1:00 PM | **Lunch Break**                             | Enjoy a healthy meal and take time to relax.                                                   |\n",
       "| 1:00 PM - 2:00 PM | **Entrepreneurship Workshop/Project**        | Participate in a workshop or work on a startup idea. Focus on how to apply scientific principles to business. |\n",
       "| 2:00 PM - 2:30 PM | **Buffer Time**                             | Reflect on the workshop, jot down ideas, or engage in light reading related to entrepreneurship. |\n",
       "| 2:30 PM - 3:30 PM | **Game-Based Learning (CounterStrike)**       | Play CounterStrike to enhance strategic thinking and teamwork. Consider how these skills apply to business. |\n",
       "| 3:30 PM - 4:00 PM | **Buffer Time**                             | Wind down, engage in a casual conversation with friends, or play a few chess games.             |\n",
       "| 4:00 PM - 5:00 PM | **Review and Reflect**                        | Review the day’s learning, consolidate knowledge, and plan for the next day.                    |\n",
       "| 5:00 PM - 6:00 PM | **Extracurricular Activity (Chess)**          | Join a chess club or play online. Use this time to develop strategic thinking and patience.      |\n",
       "| 6:00 PM - 7:00 PM | **Dinner Break**                             | Enjoy dinner and relax before the evening activities.                                          |\n",
       "| 7:00 PM - 8:00 PM | **Networking/Startup Ideation**               | Connect with fellow students or mentors to discuss startup ideas and scientific contributions.    |\n",
       "| 8:00 PM - 9:00 PM | **Leisure Time**                              | Engage in a hobby or relax with friends. Consider how leisure activities can inspire future projects. |\n",
       "```"
      ],
      "text/plain": [
       "<IPython.core.display.Markdown object>"
      ]
     },
     "metadata": {},
     "output_type": "display_data"
    }
   ],
   "source": [
    "from IPython.display import Markdown, display\n",
    "blocks = extract_md_blocks(result)\n",
    "blocks =  \"```markdown\\n\" + blocks[0] + \"\\n```\"\n",
    "\n",
    "display(Markdown(blocks))\n"
   ]
  },
  {
   "cell_type": "code",
   "execution_count": 108,
   "metadata": {},
   "outputs": [
    {
     "name": "stdout",
     "output_type": "stream",
     "text": [
      "\n"
     ]
    },
    {
     "data": {
      "text/markdown": [],
      "text/plain": [
       "<IPython.core.display.Markdown object>"
      ]
     },
     "metadata": {},
     "output_type": "display_data"
    }
   ],
   "source": []
  }
 ],
 "metadata": {
  "kernelspec": {
   "display_name": "Python 3",
   "language": "python",
   "name": "python3"
  },
  "language_info": {
   "codemirror_mode": {
    "name": "ipython",
    "version": 3
   },
   "file_extension": ".py",
   "mimetype": "text/x-python",
   "name": "python",
   "nbconvert_exporter": "python",
   "pygments_lexer": "ipython3",
   "version": "3.10.13"
  }
 },
 "nbformat": 4,
 "nbformat_minor": 2
}
